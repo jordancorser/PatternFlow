{
 "cells": [
  {
   "cell_type": "code",
   "execution_count": null,
   "metadata": {},
   "outputs": [],
   "source": [
    "import numpy as np\n",
    "import tensorflow as tf\n",
    "import tensorflow.keras as K\n",
    "import matplotlib.pyplot as plt\n",
    "import os"
   ]
  },
  {
   "cell_type": "code",
   "execution_count": null,
   "metadata": {},
   "outputs": [],
   "source": [
    "root_dir = \"C:\\Users\\jorda\\Documents\"\n",
    "def load_data(path):\n",
    "    train_files = []\n",
    "    train_loc = os.path.join(path, \"\\keras_png_slices_data\\keras_png_slices_train\")\n",
    "    for filename in os.listdir(train_loc):\n",
    "        train_files.append(os.path.join(train_loc, filename))\n",
    "\n",
    "    test_files = []\n",
    "    test_loc = os.path.join(path, \"\\keras_png_slices_data\\keras_png_slices_test\")\n",
    "    for filename in os.listdir(test_loc):\n",
    "        test_files.append(os.path.join(test_loc, filename))\n",
    "\n",
    "    val_files = []\n",
    "    val_loc = os.path.join(path, \"\\keras_png_slices_data\\keras_png_slices_validate\")\n",
    "    for filename in os.listdir(val_loc):\n",
    "        val_files.append(os.path.join(val_loc, filename))        \n",
    "    \n",
    "    return train_files, test_files, val_files\n",
    "        \n"
   ]
  },
  {
   "cell_type": "code",
   "execution_count": null,
   "metadata": {},
   "outputs": [],
   "source": [
    "root_dir = \"C:\\Users\\jorda\\Documents\"\n",
    "directories = [\"keras_png_slices_data\\keras_png_slices_test\",\n",
    "            \"keras_png_slices_data\\keras_png_slices_train\",\n",
    "            \"keras_png_slices_data\\keras_png_slices_validate\"]\n",
    "def load_data2(path, directories, batches):\n",
    "    test_imgs = K.utils.image_dataset_from_directory(os.path.join(path, directories[0]),\n",
    "                                                        color_mode='greyscale',\n",
    "                                                        batch_size=batches,\n",
    "                                                        label_mode = None,\n",
    "                                                        image_size=(256, 256))       \n",
    "\n",
    "    train_imgs = K.utils.image_dataset_from_directory(os.path.join(path, directories[1]),\n",
    "                                                        color_mode='greyscale',\n",
    "                                                        label_mode = None,\n",
    "                                                        batch_size=batches,\n",
    "                                                        image_size=(256, 256))       \n",
    "\n",
    "    val_imgs = K.utils.image_dataset_from_directory(os.path.join(path, directories[2]),\n",
    "                                                        color_mode='greyscale',\n",
    "                                                        label_mode = None,\n",
    "                                                        batch_size=batches,\n",
    "                                                        image_size=(256, 256))       \n",
    "\n",
    "    \n",
    "    test_imgs = test_imgs/255\n",
    "    train_imgs = train_imgs/255\n",
    "    val_imgs = val_imgs/255\n",
    "\n",
    "    return test_imgs, train_imgs, val_imgs"
   ]
  }
 ],
 "metadata": {
  "kernelspec": {
   "display_name": "Python 3.10.4 ('prac2')",
   "language": "python",
   "name": "python3"
  },
  "language_info": {
   "name": "python",
   "version": "3.10.4"
  },
  "orig_nbformat": 4,
  "vscode": {
   "interpreter": {
    "hash": "5e1d54af1b355d71a80afa0c6078922cd3c310398571f5f0943216a19c79b4ba"
   }
  }
 },
 "nbformat": 4,
 "nbformat_minor": 2
}
